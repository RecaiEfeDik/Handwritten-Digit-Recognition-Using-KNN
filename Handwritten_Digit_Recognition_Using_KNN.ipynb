{
  "nbformat": 4,
  "nbformat_minor": 0,
  "metadata": {
    "colab": {
      "provenance": [],
      "machine_shape": "hm",
      "authorship_tag": "ABX9TyMu105NLN8zqMuQMjv3yUeY",
      "include_colab_link": true
    },
    "kernelspec": {
      "name": "python3",
      "display_name": "Python 3"
    },
    "language_info": {
      "name": "python"
    }
  },
  "cells": [
    {
      "cell_type": "markdown",
      "metadata": {
        "id": "view-in-github",
        "colab_type": "text"
      },
      "source": [
        "<a href=\"https://colab.research.google.com/github/RecaiEfeDik/Handwritten-Digit-Recognition-Using-KNN/blob/main/Handwritten_Digit_Recognition_Using_KNN.ipynb\" target=\"_parent\"><img src=\"https://colab.research.google.com/assets/colab-badge.svg\" alt=\"Open In Colab\"/></a>"
      ]
    },
    {
      "cell_type": "code",
      "execution_count": 1,
      "metadata": {
        "id": "vaOZVkjHcRoe"
      },
      "outputs": [],
      "source": [
        "import threading\n",
        "import numpy as np\n",
        "import matplotlib.pyplot as plt\n",
        "import pandas as pd\n",
        "from sklearn.model_selection import train_test_split\n",
        "from sklearn.metrics import accuracy_score\n",
        "from sklearn.metrics import confusion_matrix\n",
        "from sklearn.metrics import classification_report\n",
        "from sklearn import preprocessing"
      ]
    },
    {
      "cell_type": "code",
      "source": [
        "#Read data and turn it into np array\n",
        "df = pd.read_csv('dataset.csv')\n",
        "total_data = np.array(df)\n",
        "\n",
        "#Apply standart scaling\n",
        "# total_data_scaled = preprocessing.StandardScaler().fit_transform(total_data)\n",
        "\n",
        "#Split train and test data set\n",
        "train_data, test_data = train_test_split(total_data, test_size=0.001, random_state=42)\n",
        "\n",
        "#Seperate labels and flattened pixel inputs\n",
        "labels = train_data[:,0]\n",
        "train_data = train_data[:,1:]\n",
        "test_labels = test_data[:,0]\n",
        "test_data = test_data[:,1:]"
      ],
      "metadata": {
        "id": "Gm2_Ml4lggI2"
      },
      "execution_count": 2,
      "outputs": []
    },
    {
      "cell_type": "code",
      "source": [
        "#Define different types of distance functions to be used\n",
        "\n",
        "def manhattan_distance(x, y, distance_list):\n",
        "  distance_list.append(np.sum(np.abs(x-y)))\n",
        "\n",
        "def euclidean_distance(x, y, distance_list):\n",
        "  distance_list.append(np.sqrt(np.sum((x-y)**2)))\n",
        "\n",
        "def cosine_distance(x, y, distance_list):\n",
        "  distance_list.append(1 - np.dot(x, y))"
      ],
      "metadata": {
        "id": "QC6BLmRdi1z1"
      },
      "execution_count": 3,
      "outputs": []
    },
    {
      "cell_type": "code",
      "source": [
        "#Define KNN Classifier\n",
        "\n",
        "def KNN_Classifier(labels, train_data, test_point, k, distance_function_type, prediction_list):\n",
        "\n",
        "  #Calculate distances according to function\n",
        "  if distance_function_type == 'manhattan':\n",
        "    distance_function = manhattan_distance\n",
        "  elif distance_function_type == 'euclidean':\n",
        "    distance_function = euclidean_distance\n",
        "  elif distance_function_type == 'cosine':\n",
        "    distance_function = cosine_distance\n",
        "\n",
        "  distances = []\n",
        "\n",
        "  threads = list(map(lambda x: threading.Thread(target=distance_function, args=(test_point, x, distances)), train_data))\n",
        "\n",
        "  for thread in threads:\n",
        "    thread.start()\n",
        "\n",
        "  for thread in threads:\n",
        "    thread.join()\n",
        "\n",
        "  distances = np.array(distances)\n",
        "\n",
        "  #Sort the distances\n",
        "  sorted_distances = np.argsort(distances)\n",
        "\n",
        "  #Select the \"k\" number of labels\n",
        "  k_nearest_labels = labels[sorted_distances[:k]]\n",
        "\n",
        "  #Choose the label with maximum counts\n",
        "  predicted_label = np.argmax(np.bincount(k_nearest_labels))\n",
        "\n",
        "  prediction_list.append(predicted_label)\n"
      ],
      "metadata": {
        "id": "r-MgVnQMh721"
      },
      "execution_count": 4,
      "outputs": []
    },
    {
      "cell_type": "code",
      "source": [
        "#Do testing for Manhattan distance functions with k=5\n",
        "\n",
        "predictions = []\n",
        "\n",
        "for i in range(len(test_data)):\n",
        "  print(\"Progress: %\" + str((i/len(test_data)*100)) + \"\\n\")\n",
        "  KNN_Classifier(labels, train_data, test_data[i], 5, 'manhattan', predictions)\n"
      ],
      "metadata": {
        "colab": {
          "base_uri": "https://localhost:8080/"
        },
        "id": "zJbiqsWy-vHG",
        "outputId": "2549b1c8-4144-4361-9569-58f51c9ad3e6"
      },
      "execution_count": 15,
      "outputs": [
        {
          "output_type": "stream",
          "name": "stdout",
          "text": [
            "Progress: %0.0\n",
            "\n",
            "Progress: %2.380952380952381\n",
            "\n",
            "Progress: %4.761904761904762\n",
            "\n",
            "Progress: %7.142857142857142\n",
            "\n",
            "Progress: %9.523809523809524\n",
            "\n",
            "Progress: %11.904761904761903\n",
            "\n",
            "Progress: %14.285714285714285\n",
            "\n",
            "Progress: %16.666666666666664\n",
            "\n",
            "Progress: %19.047619047619047\n",
            "\n",
            "Progress: %21.428571428571427\n",
            "\n",
            "Progress: %23.809523809523807\n",
            "\n",
            "Progress: %26.190476190476193\n",
            "\n",
            "Progress: %28.57142857142857\n",
            "\n",
            "Progress: %30.952380952380953\n",
            "\n",
            "Progress: %33.33333333333333\n",
            "\n",
            "Progress: %35.714285714285715\n",
            "\n",
            "Progress: %38.095238095238095\n",
            "\n",
            "Progress: %40.476190476190474\n",
            "\n",
            "Progress: %42.857142857142854\n",
            "\n",
            "Progress: %45.23809523809524\n",
            "\n",
            "Progress: %47.61904761904761\n",
            "\n",
            "Progress: %50.0\n",
            "\n",
            "Progress: %52.38095238095239\n",
            "\n",
            "Progress: %54.761904761904766\n",
            "\n",
            "Progress: %57.14285714285714\n",
            "\n",
            "Progress: %59.523809523809526\n",
            "\n",
            "Progress: %61.904761904761905\n",
            "\n",
            "Progress: %64.28571428571429\n",
            "\n",
            "Progress: %66.66666666666666\n",
            "\n",
            "Progress: %69.04761904761905\n",
            "\n",
            "Progress: %71.42857142857143\n",
            "\n",
            "Progress: %73.80952380952381\n",
            "\n",
            "Progress: %76.19047619047619\n",
            "\n",
            "Progress: %78.57142857142857\n",
            "\n",
            "Progress: %80.95238095238095\n",
            "\n",
            "Progress: %83.33333333333334\n",
            "\n",
            "Progress: %85.71428571428571\n",
            "\n",
            "Progress: %88.09523809523809\n",
            "\n",
            "Progress: %90.47619047619048\n",
            "\n",
            "Progress: %92.85714285714286\n",
            "\n",
            "Progress: %95.23809523809523\n",
            "\n",
            "Progress: %97.61904761904762\n",
            "\n"
          ]
        }
      ]
    },
    {
      "cell_type": "code",
      "source": [
        "#Evaluate model\n",
        "accuracy = accuracy_score(test_labels, predictions)\n",
        "print(\"Accuracy:\\n\", accuracy)\n",
        "print(\"\\nConfusion Matrix:\\n\", confusion_matrix(test_labels, predictions))\n",
        "print(\"\\nClassification Report:\\n\", classification_report(test_labels, predictions))\n"
      ],
      "metadata": {
        "colab": {
          "base_uri": "https://localhost:8080/"
        },
        "id": "yR9DcXJ-mpKP",
        "outputId": "b189c9d9-b05a-46d6-cecd-0942fa016481"
      },
      "execution_count": 16,
      "outputs": [
        {
          "output_type": "stream",
          "name": "stdout",
          "text": [
            "Accuracy:\n",
            " 0.8095238095238095\n",
            "\n",
            "Confusion Matrix:\n",
            " [[3 0 0 0 0 0 0 0 0 0]\n",
            " [0 5 0 0 0 0 0 0 0 0]\n",
            " [0 0 4 0 0 0 0 0 0 0]\n",
            " [0 1 0 3 0 0 0 0 1 0]\n",
            " [0 0 0 0 2 0 0 0 0 0]\n",
            " [0 0 0 0 0 1 0 0 0 0]\n",
            " [0 0 1 0 0 0 8 0 0 0]\n",
            " [1 0 0 0 0 0 0 3 0 0]\n",
            " [0 0 0 0 0 0 0 1 3 0]\n",
            " [0 1 2 0 0 0 0 0 0 2]]\n",
            "\n",
            "Classification Report:\n",
            "               precision    recall  f1-score   support\n",
            "\n",
            "           0       0.75      1.00      0.86         3\n",
            "           1       0.71      1.00      0.83         5\n",
            "           2       0.57      1.00      0.73         4\n",
            "           3       1.00      0.60      0.75         5\n",
            "           4       1.00      1.00      1.00         2\n",
            "           5       1.00      1.00      1.00         1\n",
            "           6       1.00      0.89      0.94         9\n",
            "           7       0.75      0.75      0.75         4\n",
            "           8       0.75      0.75      0.75         4\n",
            "           9       1.00      0.40      0.57         5\n",
            "\n",
            "    accuracy                           0.81        42\n",
            "   macro avg       0.85      0.84      0.82        42\n",
            "weighted avg       0.86      0.81      0.80        42\n",
            "\n"
          ]
        }
      ]
    }
  ]
}